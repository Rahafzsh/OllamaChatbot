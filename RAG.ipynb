{
 "cells": [
  {
   "cell_type": "markdown",
   "metadata": {},
   "source": [
    "# Retrieval Augmented Generation (RAG):\n",
    "chat wwith local LLM, For Your PDFs"
   ]
  },
  {
   "cell_type": "code",
   "execution_count": 1,
   "metadata": {},
   "outputs": [],
   "source": [
    "import langchain\n",
    "from langchain.document_loaders.pdf import PyPDFDirectoryLoader\n",
    "\n",
    "from langchain_text_splitters import RecursiveCharacterTextSplitter\n",
    "from langchain.schema.document import Document\n",
    "\n",
    "from langchain_community.embeddings.bedrock import BedrockEmbeddings\n",
    "from langchain_community.embeddings.ollama import OllamaEmbeddings\n",
    "\n",
    "from langchain_community.vectorstores import Chroma\n",
    "import warnings\n",
    "warnings.filterwarnings(\"ignore\")\n",
    "\n",
    "from langchain.prompts import ChatPromptTemplate\n",
    "from langchain_community.llms.ollama import Ollama"
   ]
  },
  {
   "cell_type": "code",
   "execution_count": 2,
   "metadata": {},
   "outputs": [],
   "source": [
    "DATA_PATH= \"data\"\n",
    "CHROMA_PATH = \"chroma\"\n",
    "PROMPT_TEMPLATE = \"\"\"\n",
    "Answer the question based only on the following context:\n",
    "\n",
    "{context}\n",
    "\n",
    "---\n",
    "\n",
    "Answer the question based on the above context: {question}\n",
    "\"\"\""
   ]
  },
  {
   "cell_type": "markdown",
   "metadata": {},
   "source": [
    "### Load and Split the documents:"
   ]
  },
  {
   "cell_type": "code",
   "execution_count": 3,
   "metadata": {},
   "outputs": [],
   "source": [
    "def load_docs():\n",
    "    doc_loader = PyPDFDirectoryLoader(DATA_PATH)\n",
    "    return doc_loader.load()"
   ]
  },
  {
   "cell_type": "code",
   "execution_count": 4,
   "metadata": {},
   "outputs": [],
   "source": [
    "def split_documents(documents: list[Document]):\n",
    "    text_splitter = RecursiveCharacterTextSplitter(\n",
    "        chunk_size=800,\n",
    "        chunk_overlap=80,\n",
    "        length_function=len,\n",
    "        is_separator_regex=False,\n",
    "    )\n",
    "    return text_splitter.split_documents(documents)"
   ]
  },
  {
   "cell_type": "markdown",
   "metadata": {},
   "source": [
    "### Count the embedding:"
   ]
  },
  {
   "cell_type": "code",
   "execution_count": 5,
   "metadata": {},
   "outputs": [],
   "source": [
    "def get_embedding_function():\n",
    "    #if we use AWS\n",
    "    # embeddings = BedrockEmbeddings(\n",
    "    #     credentials_profile_name=\"default\",\n",
    "    #     region_name=\"us-east-1\")\n",
    "    \n",
    "    #if we use Ollama \n",
    "    embeddings= OllamaEmbeddings(model=\"nomic-embed-text\")\n",
    "    \n",
    "    return embeddings\n",
    "    "
   ]
  },
  {
   "cell_type": "markdown",
   "metadata": {},
   "source": [
    "### Create the database:"
   ]
  },
  {
   "cell_type": "code",
   "execution_count": 6,
   "metadata": {},
   "outputs": [],
   "source": [
    "def calculate_chunk_ids(chunks):\n",
    "\n",
    "    # This will create IDs like \"data/monopoly.pdf:6:2\"\n",
    "    # Page Source : Page Number : Chunk Index\n",
    "\n",
    "    last_page_id = None\n",
    "    current_chunk_index = 0\n",
    "\n",
    "    for chunk in chunks:\n",
    "        source = chunk.metadata.get(\"source\")\n",
    "        page = chunk.metadata.get(\"page\")\n",
    "        current_page_id = f\"{source}:{page}\"\n",
    "\n",
    "        # If the page ID is the same as the last one, increment the index.\n",
    "        if current_page_id == last_page_id:\n",
    "            current_chunk_index += 1\n",
    "        else:\n",
    "            current_chunk_index = 0\n",
    "\n",
    "        # Calculate the chunk ID.\n",
    "        chunk_id = f\"{current_page_id}:{current_chunk_index}\"\n",
    "        last_page_id = current_page_id\n",
    "\n",
    "        # Add it to the page meta-data.\n",
    "        chunk.metadata[\"id\"] = chunk_id\n",
    "\n",
    "    return chunks"
   ]
  },
  {
   "cell_type": "code",
   "execution_count": 7,
   "metadata": {},
   "outputs": [],
   "source": [
    "def add_to_chroma(chunks: list[Document]):\n",
    "    db= Chroma(persist_directory=CHROMA_PATH,\n",
    "               embedding_function=get_embedding_function()\n",
    "               )\n",
    "    # Calculate Page IDs.\n",
    "    chunks_with_ids = calculate_chunk_ids(chunks)\n",
    "\n",
    "    # Add or Update the documents.\n",
    "    existing_items = db.get(include=[])  # IDs are always included by default\n",
    "    existing_ids = set(existing_items[\"ids\"])\n",
    "    print(f\"Number of existing documents in DB: {len(existing_ids)}\")\n",
    "\n",
    "    # Only add documents that don't exist in the DB.\n",
    "    new_chunks = []\n",
    "    for chunk in chunks_with_ids:\n",
    "        if chunk.metadata[\"id\"] not in existing_ids:\n",
    "            new_chunks.append(chunk)\n",
    "\n",
    "    if len(new_chunks):\n",
    "        print(f\"Adding new documents: {len(new_chunks)}\")\n",
    "        new_chunk_ids = [chunk.metadata[\"id\"] for chunk in new_chunks]\n",
    "        db.add_documents(new_chunks, ids=new_chunk_ids)\n",
    "        db.persist()\n",
    "    else:\n",
    "        print(\"No new documents to add!\")"
   ]
  },
  {
   "cell_type": "code",
   "execution_count": 8,
   "metadata": {},
   "outputs": [
    {
     "name": "stdout",
     "output_type": "stream",
     "text": [
      "Number of existing documents in DB: 41\n",
      "No new documents to add!\n"
     ]
    }
   ],
   "source": [
    "documents = load_docs()\n",
    "chunks = split_documents(documents)\n",
    "add_to_chroma(chunks)"
   ]
  },
  {
   "cell_type": "markdown",
   "metadata": {},
   "source": [
    "### Create qurey data:"
   ]
  },
  {
   "cell_type": "code",
   "execution_count": 9,
   "metadata": {},
   "outputs": [],
   "source": [
    "def query_rag(query_text: str):\n",
    "    # Prepare the DB.\n",
    "    embedding_function = get_embedding_function()\n",
    "    db = Chroma(persist_directory=CHROMA_PATH, embedding_function=embedding_function)\n",
    "\n",
    "    # Search the DB.\n",
    "    results = db.similarity_search_with_score(query_text, k=5)\n",
    "\n",
    "    context_text = \"\\n\\n---\\n\\n\".join([doc.page_content for doc, _score in results])\n",
    "    prompt_template = ChatPromptTemplate.from_template(PROMPT_TEMPLATE)\n",
    "    prompt = prompt_template.format(context=context_text, question=query_text)\n",
    "    # print(prompt)\n",
    "\n",
    "    model = Ollama(model=\"llama3\")\n",
    "    response_text = model.invoke(prompt)\n",
    "\n",
    "    sources = [doc.metadata.get(\"id\", None) for doc, _score in results]\n",
    "    formatted_response = f\"Response: {response_text}\\nSources: {sources}\"\n",
    "    print(formatted_response)\n",
    "    return response_text"
   ]
  },
  {
   "cell_type": "code",
   "execution_count": 10,
   "metadata": {},
   "outputs": [
    {
     "name": "stdout",
     "output_type": "stream",
     "text": [
      "Human: \n",
      "Answer the question based only on the following context:\n",
      "\n",
      "MONOPOLY \n",
      "Property Trading Game from Parker Brothers\" \n",
      "AGES 8+ \n",
      "2 to 8 Players \n",
      "Contents: Gameboard, 3 dice, tokens, 32 houses, I2 hotels, Chance \n",
      "and Community Chest cards, Title Deed cards, play money and a Banker's tray. \n",
      "Now there's a faster way to play MONOPOLY. Choose to play by \n",
      "the classic rules for buying, renting and selling properties or use the \n",
      "Speed Die to get into the action faster. If you've never played the classic \n",
      "MONOPOLY game, refer to the Classic Rules beginning on the next page. \n",
      "If you already know how to play and want to use the Speed Die, just \n",
      "read the section below for the additional Speed Die rules. \n",
      "SPEED DIE RULES \n",
      "Learnins how to Play with the S~eed Die IS as \n",
      "/ \n",
      "fast as playing with i't. \n",
      "1. When starting the game, hand out an extra $1,000 to each player\n",
      "\n",
      "---\n",
      "\n",
      "Bus: This lets you \"get off the bus early.\" Look at the two white \n",
      "dice. You can move the value of one die, the other die, or the \n",
      "sum of both dice. So if you rolled a 1 and a 5, you can move \n",
      "1 space, 5 spaces, or 6 spaces: \\t's your choice. \n",
      "Mr. Monopoly: First, move the sum of the two white dice \n",
      "and resolve the space you land on (such as drawing a card, \n",
      "buying the property, paying rent, etc.). Then, one of two \n",
      "things will happen depending on whether or not there is still \n",
      "property in the bank. \n",
      "YES, there is property in the bank -Advance to the NEXT \n",
      "property that the bank still holds and buy it if you wish. If you \n",
      "don't want to buy this property, move to the space anyway \n",
      "and put the property up for auction. \n",
      "NO, there are no more properties in the bank - Advance to the\n",
      "\n",
      "---\n",
      "\n",
      "CLASSIC MONOPOW RULES \n",
      "OBJECT: The object of the game IS to become the \n",
      "wealthiest player through buying, renting and selling \n",
      "property. \n",
      "PREPARATION: Place the board on a table and put \n",
      "the Chance and Community Chest cards facedown on \n",
      "their allotted spaces on the board. Each player chooses one token to \n",
      "represent himther while traveling around the board.\n",
      "\n",
      "---\n",
      "\n",
      "and auctions properties and hands out the~r proper Title Deed cards; \n",
      "it sells houses and hotels to the players and loans money when \n",
      "required on mortgages. \n",
      "The Bank collects all taxes, fines, loans and interest, and the price of \n",
      "all properties which it sells and auctions. \n",
      "The Bank nwer \"goes broke.\" If the Bank runs out of money, the Banker \n",
      "may issue as much more as needed by writing on any ordinary paper. \n",
      "THE PLAY: Starting with the Banker, each player in turn throws the dice. \n",
      "The player with the highest total starts the play: Place your \n",
      "token on the corner marked \"GO,\" throw the dice and move \n",
      "your token in the direction of the arrow the number of \n",
      "spaces indicated by the dice. After you have completed \n",
      "your play, the turn passes to the left. The tokens remain\n",
      "\n",
      "---\n",
      "\n",
      "NO, there are no more properties in the bank - Advance to the \n",
      "NOCT property on which you will owe another player money. \n",
      "A few minor details: \n",
      "Only the white dice are used when determining if you rolled doubles. \n",
      "Do not look at the Speed Die. \n",
      "If you roll a three-of-a-kind (all of the dice show the same number), \n",
      "you can move anywhere you want on the board! \n",
      "If you get sent to jail during your move (either by landing on the \"Go \n",
      "to Jail\" space or by rolling doubles three times in a row) then your turn \n",
      "is over and you do not get to use the Speed Die for that turn. \n",
      "Use the white dice ONLY when rolling to get out of jail. \n",
      "L \n",
      "Use the sum of all three dice when determining how much to pay on \n",
      "a utility. Note: The Bus and Mr. Monopoly are valued at 0. \n",
      "CLASSIC MONOPOW RULES\n",
      "\n",
      "---\n",
      "\n",
      "Answer the question based on the above context: what is monopoly?\n",
      "\n",
      "Response: According to the provided context, MONOPOLY is a \"Property Trading Game from Parker Brothers\" designed for players aged 8 and above, accommodating 2 to 8 players.\n",
      "Sources: ['data\\\\monopoly.pdf:0:0', 'data\\\\monopoly.pdf:1:0', 'data\\\\monopoly.pdf:1:2', 'data\\\\monopoly.pdf:2:1', 'data\\\\monopoly.pdf:1:1']\n"
     ]
    }
   ],
   "source": [
    "if __name__ == \"__main__\":\n",
    "    query= input(\"Please enter the query text: \")\n",
    "    query_rag(query)"
   ]
  }
 ],
 "metadata": {
  "kernelspec": {
   "display_name": "chatbot",
   "language": "python",
   "name": "python3"
  },
  "language_info": {
   "codemirror_mode": {
    "name": "ipython",
    "version": 3
   },
   "file_extension": ".py",
   "mimetype": "text/x-python",
   "name": "python",
   "nbconvert_exporter": "python",
   "pygments_lexer": "ipython3",
   "version": "3.12.3"
  }
 },
 "nbformat": 4,
 "nbformat_minor": 2
}

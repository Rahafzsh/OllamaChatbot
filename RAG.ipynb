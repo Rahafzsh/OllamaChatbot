{
 "cells": [
  {
   "cell_type": "code",
   "execution_count": 2,
   "metadata": {},
   "outputs": [],
   "source": [
    "import langchain\n",
    "from langchain.document_loaders.pdf import PyPDFDirectoryLoader"
   ]
  },
  {
   "cell_type": "code",
   "execution_count": 12,
   "metadata": {},
   "outputs": [],
   "source": [
    "DATA_PATH= \"data\""
   ]
  },
  {
   "cell_type": "code",
   "execution_count": 13,
   "metadata": {},
   "outputs": [],
   "source": [
    "def load_docs():\n",
    "    doc_loader = PyPDFDirectoryLoader(DATA_PATH)\n",
    "    return doc_loader.load()"
   ]
  },
  {
   "cell_type": "code",
   "execution_count": 21,
   "metadata": {},
   "outputs": [],
   "source": [
    "from langchain_text_splitters import RecursiveCharacterTextSplitter\n",
    "from langchain.schema.document import Document\n",
    "\n",
    "from langchain_community.embeddings.bedrock import BedrockEmbeddings\n",
    "from langchain_community.embeddings.ollama import OllamaEmbeddings"
   ]
  },
  {
   "cell_type": "code",
   "execution_count": 19,
   "metadata": {},
   "outputs": [],
   "source": [
    "def split_documents(docs: list[Document]):\n",
    "    text_splitter= RecursiveCharacterTextSplitter(\n",
    "        chunk_size=800, \n",
    "        chunk_overlap=80, \n",
    "        length_function=len,\n",
    "        is_separator_regex=False)\n",
    "    \n",
    "    return text_splitter.split_documents(docs)"
   ]
  },
  {
   "cell_type": "code",
   "execution_count": 22,
   "metadata": {},
   "outputs": [],
   "source": [
    "def get_embedding_function():\n",
    "    #if we use AWS\n",
    "    # embeddings = BedrockEmbeddings(\n",
    "    #     credentials_profile_name=\"default\",\n",
    "    #     region_name=\"us-east-1\")\n",
    "    \n",
    "    #if we use Ollama \n",
    "    embeddings= OllamaEmbeddings(model=\"nomic-embed-text\")\n",
    "    \n",
    "    return embeddings\n",
    "    "
   ]
  },
  {
   "cell_type": "markdown",
   "metadata": {},
   "source": [
    "### create the database:"
   ]
  },
  {
   "cell_type": "code",
   "execution_count": 27,
   "metadata": {},
   "outputs": [
    {
     "ename": "ImportError",
     "evalue": "cannot import name 'Chorma' from 'langchain.vectorstores.chroma' (c:\\Users\\iraha\\OneDrive - IMAM ABDULRAHMAN BIN FAISAL UNIVERSITY\\Desktop\\GitHub\\OllamaChatbot\\chatbot\\Lib\\site-packages\\langchain\\vectorstores\\chroma.py)",
     "output_type": "error",
     "traceback": [
      "\u001b[1;31m---------------------------------------------------------------------------\u001b[0m",
      "\u001b[1;31mImportError\u001b[0m                               Traceback (most recent call last)",
      "Cell \u001b[1;32mIn[27], line 1\u001b[0m\n\u001b[1;32m----> 1\u001b[0m \u001b[38;5;28;01mfrom\u001b[39;00m \u001b[38;5;21;01mlangchain\u001b[39;00m\u001b[38;5;21;01m.\u001b[39;00m\u001b[38;5;21;01mvectorstores\u001b[39;00m\u001b[38;5;21;01m.\u001b[39;00m\u001b[38;5;21;01mchroma\u001b[39;00m \u001b[38;5;28;01mimport\u001b[39;00m Chorma\n",
      "\u001b[1;31mImportError\u001b[0m: cannot import name 'Chorma' from 'langchain.vectorstores.chroma' (c:\\Users\\iraha\\OneDrive - IMAM ABDULRAHMAN BIN FAISAL UNIVERSITY\\Desktop\\GitHub\\OllamaChatbot\\chatbot\\Lib\\site-packages\\langchain\\vectorstores\\chroma.py)"
     ]
    }
   ],
   "source": [
    "from langchain.vectorstores.chroma import Chorma"
   ]
  },
  {
   "cell_type": "code",
   "execution_count": 17,
   "metadata": {},
   "outputs": [
    {
     "name": "stdout",
     "output_type": "stream",
     "text": [
      "page_content='MONOPOLY \n",
      "Property Trading Game from Parker Brothers\" \n",
      "AGES 8+ \n",
      "2 to 8 Players \n",
      "Contents: Gameboard, 3 dice, tokens, 32 houses, I2 hotels, Chance \n",
      "and Community Chest cards, Title Deed cards, play money and a Banker's tray. \n",
      "Now there's a faster way to play MONOPOLY. Choose to play by \n",
      "the classic rules for buying, renting and selling properties or use the \n",
      "Speed Die to get into the action faster. If you've never played the classic \n",
      "MONOPOLY game, refer to the Classic Rules beginning on the next page. \n",
      "If you already know how to play and want to use the Speed Die, just \n",
      "read the section below for the additional Speed Die rules. \n",
      "SPEED DIE RULES \n",
      "Learnins how to Play with the S~eed Die IS as \n",
      "/ \n",
      "fast as playing with i't. \n",
      "1. When starting the game, hand out an extra $1,000 to each player' metadata={'source': 'data\\\\monopoly.pdf', 'page': 0}\n"
     ]
    }
   ],
   "source": [
    "docs= load_docs()\n",
    "chunks= split_documents(docs)\n",
    "print(chunks[0])"
   ]
  }
 ],
 "metadata": {
  "kernelspec": {
   "display_name": "chatbot",
   "language": "python",
   "name": "python3"
  },
  "language_info": {
   "codemirror_mode": {
    "name": "ipython",
    "version": 3
   },
   "file_extension": ".py",
   "mimetype": "text/x-python",
   "name": "python",
   "nbconvert_exporter": "python",
   "pygments_lexer": "ipython3",
   "version": "3.12.3"
  }
 },
 "nbformat": 4,
 "nbformat_minor": 2
}

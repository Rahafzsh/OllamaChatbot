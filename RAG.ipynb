{
 "cells": [
  {
   "cell_type": "markdown",
   "metadata": {},
   "source": [
    "# Retrieval Augmented Generation (RAG):\n",
    "chat wwith local LLM, For Your PDFs"
   ]
  },
  {
   "cell_type": "code",
   "execution_count": 1,
   "metadata": {},
   "outputs": [],
   "source": [
    "import langchain\n",
    "from langchain.document_loaders.pdf import PyPDFDirectoryLoader\n",
    "\n",
    "from langchain_text_splitters import RecursiveCharacterTextSplitter\n",
    "from langchain.schema.document import Document\n",
    "\n",
    "from langchain_community.embeddings.bedrock import BedrockEmbeddings\n",
    "from langchain_community.embeddings.ollama import OllamaEmbeddings\n",
    "\n",
    "from langchain_community.vectorstores import Chroma\n",
    "import warnings\n",
    "warnings.filterwarnings(\"ignore\")\n",
    "\n",
    "from langchain.prompts import ChatPromptTemplate\n",
    "from langchain_community.llms.ollama import Ollama\n",
    "\n",
    "from concurrent.futures import ThreadPoolExecutor, as_completed\n",
    "from typing import List"
   ]
  },
  {
   "cell_type": "code",
   "execution_count": 2,
   "metadata": {},
   "outputs": [],
   "source": [
    "DATA_PATH= \"data\"\n",
    "CHROMA_PATH = \"chroma\"\n",
    "PROMPT_TEMPLATE = \"\"\"\n",
    "Answer the question based only on the following context:\n",
    "\n",
    "{context}\n",
    "\n",
    "---\n",
    "\n",
    "Answer the question based on the above context: {question}\n",
    "\"\"\""
   ]
  },
  {
   "cell_type": "markdown",
   "metadata": {},
   "source": [
    "### Load and Split the documents:"
   ]
  },
  {
   "cell_type": "code",
   "execution_count": 3,
   "metadata": {},
   "outputs": [],
   "source": [
    "def load_docs():\n",
    "    doc_loader = PyPDFDirectoryLoader(DATA_PATH)\n",
    "    return doc_loader.load()"
   ]
  },
  {
   "cell_type": "code",
   "execution_count": 4,
   "metadata": {},
   "outputs": [],
   "source": [
    "def split_documents(documents: list[Document]):\n",
    "    text_splitter = RecursiveCharacterTextSplitter(\n",
    "        chunk_size=800,\n",
    "        chunk_overlap=80,\n",
    "        length_function=len,\n",
    "        is_separator_regex=False,\n",
    "    )\n",
    "    return text_splitter.split_documents(documents)"
   ]
  },
  {
   "cell_type": "markdown",
   "metadata": {},
   "source": [
    "### Count the embedding:"
   ]
  },
  {
   "cell_type": "code",
   "execution_count": 5,
   "metadata": {},
   "outputs": [],
   "source": [
    "def get_embedding_function():\n",
    "    #if we use AWS\n",
    "    # embeddings = BedrockEmbeddings(\n",
    "    #     credentials_profile_name=\"default\",\n",
    "    #     region_name=\"us-east-1\")\n",
    "    \n",
    "    #if we use Ollama \n",
    "    embeddings= OllamaEmbeddings(model=\"nomic-embed-text\")\n",
    "    \n",
    "    return embeddings\n",
    "    "
   ]
  },
  {
   "cell_type": "markdown",
   "metadata": {},
   "source": [
    "### Create the database:"
   ]
  },
  {
   "cell_type": "code",
   "execution_count": 6,
   "metadata": {},
   "outputs": [],
   "source": [
    "# def calculate_chunk_ids(chunks):\n",
    "\n",
    "#     # This will create IDs like \"data/monopoly.pdf:6:2\"\n",
    "#     # Page Source : Page Number : Chunk Index\n",
    "\n",
    "#     last_page_id = None\n",
    "#     current_chunk_index = 0\n",
    "\n",
    "#     for chunk in chunks:\n",
    "#         source = chunk.metadata.get(\"source\")\n",
    "#         page = chunk.metadata.get(\"page\")\n",
    "#         current_page_id = f\"{source}:{page}\"\n",
    "\n",
    "#         # If the page ID is the same as the last one, increment the index.\n",
    "#         if current_page_id == last_page_id:\n",
    "#             current_chunk_index += 1\n",
    "#         else:\n",
    "#             current_chunk_index = 0\n",
    "\n",
    "#         # Calculate the chunk ID.\n",
    "#         chunk_id = f\"{current_page_id}:{current_chunk_index}\"\n",
    "#         last_page_id = current_page_id\n",
    "\n",
    "#         # Add it to the page meta-data.\n",
    "#         chunk.metadata[\"id\"] = chunk_id\n",
    "\n",
    "#     return chunks"
   ]
  },
  {
   "cell_type": "code",
   "execution_count": 7,
   "metadata": {},
   "outputs": [],
   "source": [
    "# def add_to_chroma(chunks: list[Document]):\n",
    "#     db= Chroma(persist_directory=CHROMA_PATH,\n",
    "#                embedding_function=get_embedding_function()\n",
    "#                )\n",
    "#     # Calculate Page IDs.\n",
    "#     chunks_with_ids = calculate_chunk_ids(chunks)\n",
    "\n",
    "#     # Add or Update the documents.\n",
    "#     existing_items = db.get(include=[])  # IDs are always included by default\n",
    "#     existing_ids = set(existing_items[\"ids\"])\n",
    "#     print(f\"Number of existing documents in DB: {len(existing_ids)}\")\n",
    "\n",
    "#     # Only add documents that don't exist in the DB.\n",
    "#     new_chunks = []\n",
    "#     for chunk in chunks_with_ids:\n",
    "#         if chunk.metadata[\"id\"] not in existing_ids:\n",
    "#             new_chunks.append(chunk)\n",
    "\n",
    "#     if len(new_chunks):\n",
    "#         print(f\"Adding new documents: {len(new_chunks)}\")\n",
    "#         new_chunk_ids = [chunk.metadata[\"id\"] for chunk in new_chunks]\n",
    "#         db.add_documents(new_chunks, ids=new_chunk_ids)\n",
    "#         db.persist()\n",
    "#     else:\n",
    "#         print(\"No new documents to add!\")"
   ]
  },
  {
   "cell_type": "code",
   "execution_count": 8,
   "metadata": {},
   "outputs": [],
   "source": [
    "def calculate_chunk_ids_for_sublist(sublist):\n",
    "    last_page_id = None\n",
    "    current_chunk_index = 0\n",
    "\n",
    "    for chunk in sublist:\n",
    "        source = chunk.metadata.get(\"source\")\n",
    "        page = chunk.metadata.get(\"page\")\n",
    "        current_page_id = f\"{source}:{page}\"\n",
    "\n",
    "        if current_page_id == last_page_id:\n",
    "            current_chunk_index += 1\n",
    "        else:\n",
    "            current_chunk_index = 0\n",
    "\n",
    "        chunk_id = f\"{current_page_id}:{current_chunk_index}\"\n",
    "        last_page_id = current_page_id\n",
    "\n",
    "        chunk.metadata[\"id\"] = chunk_id\n",
    "\n",
    "    return sublist\n",
    "\n",
    "def parallelize_calculate_chunk_ids(chunks, num_workers=4):\n",
    "    chunk_size = len(chunks) // num_workers\n",
    "    chunk_sublists = [chunks[i:i + chunk_size] for i in range(0, len(chunks), chunk_size)]\n",
    "\n",
    "    with ThreadPoolExecutor(max_workers=num_workers) as executor:\n",
    "        results = list(executor.map(calculate_chunk_ids_for_sublist, chunk_sublists))\n",
    "\n",
    "    # Flatten the list of results into a single list\n",
    "    return [chunk for sublist in results for chunk in sublist]\n",
    "\n",
    "# Example usage\n",
    "# chunks = ...  # Your chunks data\n",
    "# updated_chunks = parallelize_calculate_chunk_ids(chunks)"
   ]
  },
  {
   "cell_type": "code",
   "execution_count": 9,
   "metadata": {},
   "outputs": [],
   "source": [
    "def add_to_chroma_parallel(chunks: List[Document], num_workers=4):\n",
    "    db = Chroma(\n",
    "        persist_directory=CHROMA_PATH,\n",
    "        embedding_function=get_embedding_function()\n",
    "    )\n",
    "\n",
    "    # Calculate Page IDs.\n",
    "    chunks_with_ids = parallelize_calculate_chunk_ids(chunks)\n",
    "\n",
    "    # Add or Update the documents.\n",
    "    existing_items = db.get(include=[])  # IDs are always included by default\n",
    "    existing_ids = set(existing_items[\"ids\"])\n",
    "    print(f\"Number of existing documents in DB: {len(existing_ids)}\")\n",
    "\n",
    "    # Function to check and collect new chunks\n",
    "    def filter_new_chunks(chunk):\n",
    "        if chunk.metadata[\"id\"] not in existing_ids:\n",
    "            return chunk\n",
    "        return None\n",
    "\n",
    "    # Parallelize filtering of new chunks\n",
    "    with ThreadPoolExecutor(max_workers=num_workers) as executor:\n",
    "        new_chunks = list(executor.map(filter_new_chunks, chunks_with_ids))\n",
    "\n",
    "    # Filter out None values from the list\n",
    "    new_chunks = [chunk for chunk in new_chunks if chunk is not None]\n",
    "\n",
    "    if len(new_chunks):\n",
    "        print(f\"Adding new documents: {len(new_chunks)}\")\n",
    "        new_chunk_ids = [chunk.metadata[\"id\"] for chunk in new_chunks]\n",
    "        db.add_documents(new_chunks, ids=new_chunk_ids)\n",
    "        db.persist()\n",
    "    else:\n",
    "        print(\"No new documents to add!\")\n",
    "\n",
    "# Example usage\n",
    "# add_to_chroma_parallel(chunks)"
   ]
  },
  {
   "cell_type": "code",
   "execution_count": 11,
   "metadata": {},
   "outputs": [
    {
     "name": "stdout",
     "output_type": "stream",
     "text": [
      "Number of existing documents in DB: 85\n",
      "Adding new documents: 2329\n"
     ]
    }
   ],
   "source": [
    "documents = load_docs()\n",
    "chunks = split_documents(documents)\n",
    "updated_chunks = parallelize_calculate_chunk_ids(chunks)\n",
    "add_to_chroma_parallel(updated_chunks)\n",
    "\n",
    "# def parallelize_load_and_process():\n",
    "#     # Parallelize loading documents\n",
    "#     with ThreadPoolExecutor() as executor:\n",
    "#         future_docs = executor.submit(load_docs)\n",
    "#         documents = future_docs.result()\n",
    "\n",
    "#     # Parallelize splitting documents into chunks\n",
    "#     with ThreadPoolExecutor() as executor:\n",
    "#         future_chunks = executor.submit(split_documents, documents)\n",
    "#         chunks = future_chunks.result()\n",
    "\n",
    "#     # Parallelize adding chunks to Chroma\n",
    "#     with ThreadPoolExecutor() as executor:\n",
    "#         future_add_to_chroma = executor.submit(add_to_chroma, chunks)\n",
    "#         future_add_to_chroma.result()\n",
    "\n",
    "# parallelize_load_and_process()"
   ]
  },
  {
   "cell_type": "markdown",
   "metadata": {},
   "source": [
    "### Create qurey data:"
   ]
  },
  {
   "cell_type": "code",
   "execution_count": null,
   "metadata": {},
   "outputs": [],
   "source": [
    "def query_rag(query_text: str):\n",
    "    # Prepare the DB.\n",
    "    embedding_function = get_embedding_function()\n",
    "    db = Chroma(persist_directory=CHROMA_PATH, embedding_function=embedding_function)\n",
    "\n",
    "    # Search the DB.\n",
    "    results = db.similarity_search_with_score(query_text, k=5)\n",
    "\n",
    "    context_text = \"\\n\\n---\\n\\n\".join([doc.page_content for doc, _score in results])\n",
    "    prompt_template = ChatPromptTemplate.from_template(PROMPT_TEMPLATE)\n",
    "    prompt = prompt_template.format(context=context_text, question=query_text)\n",
    "    # print(prompt)\n",
    "\n",
    "    model = Ollama(model=\"llama3\")\n",
    "    response_text = model.invoke(prompt)\n",
    "\n",
    "    sources = [doc.metadata.get(\"id\", None) for doc, _score in results]\n",
    "    formatted_response = f\"Response: {response_text}\\nSources: {sources}\"\n",
    "    print(formatted_response)\n",
    "    return response_text"
   ]
  },
  {
   "cell_type": "code",
   "execution_count": null,
   "metadata": {},
   "outputs": [
    {
     "name": "stdout",
     "output_type": "stream",
     "text": [
      "Response: According to the text, Cloud Computing is defined as an area that has its own characteristics which make it distinct from other research areas. The key characteristics mentioned are:\n",
      "\n",
      "* Conceptional service-oriented characteristic\n",
      "* Loose coupling and strong fault tolerance\n",
      "* Ease of use user experience characteristic\n",
      "* TCP/IP especially Internet based\n",
      "* Virtualization\n",
      "* High security\n",
      "\n",
      "These characteristics help to distinguish Cloud Computing from other research areas such as HPC, virtualization, utility computing, and grid computing.\n",
      "Sources: ['data\\\\TheCharacteristicsofCloudComputing_20140722_154207.pdf:4:1', 'data\\\\TheCharacteristicsofCloudComputing_20140722_154207.pdf:0:5', 'data\\\\TheCharacteristicsofCloudComputing_20140722_154207.pdf:0:0', 'data\\\\TheCharacteristicsofCloudComputing_20140722_154207.pdf:0:6', 'data\\\\TheCharacteristicsofCloudComputing_20140722_154207.pdf:4:0']\n"
     ]
    }
   ],
   "source": [
    "if __name__ == \"__main__\":\n",
    "    query= input(\"Please enter the query text: \")\n",
    "    query_rag(query)"
   ]
  }
 ],
 "metadata": {
  "kernelspec": {
   "display_name": "chatbot",
   "language": "python",
   "name": "python3"
  },
  "language_info": {
   "codemirror_mode": {
    "name": "ipython",
    "version": 3
   },
   "file_extension": ".py",
   "mimetype": "text/x-python",
   "name": "python",
   "nbconvert_exporter": "python",
   "pygments_lexer": "ipython3",
   "version": "3.12.3"
  }
 },
 "nbformat": 4,
 "nbformat_minor": 2
}

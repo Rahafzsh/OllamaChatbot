{
 "cells": [
  {
   "cell_type": "code",
   "execution_count": 1,
   "metadata": {},
   "outputs": [],
   "source": [
    "from langchain_ollama import OllamaLLM\n",
    "from langchain_core.prompts import ChatPromptTemplate"
   ]
  },
  {
   "cell_type": "code",
   "execution_count": 2,
   "metadata": {},
   "outputs": [
    {
     "name": "stdout",
     "output_type": "stream",
     "text": [
      "Hello there!\n"
     ]
    }
   ],
   "source": [
    "model= OllamaLLM(model=\"llama3\")\n",
    "\n",
    "result =  model.invoke(input=\"hello world\")\n",
    "\n",
    "print(result)"
   ]
  },
  {
   "cell_type": "code",
   "execution_count": 3,
   "metadata": {},
   "outputs": [
    {
     "name": "stdout",
     "output_type": "stream",
     "text": [
      "I'm doing well, thank you for asking!\n"
     ]
    }
   ],
   "source": [
    "template= \"\"\"\n",
    "Answer the question below.\n",
    "\n",
    "Here is the conversion history: {context}\n",
    "\n",
    "Question: {question}\n",
    "\n",
    "Answer:\n",
    "\"\"\"\n",
    "\n",
    "model= OllamaLLM(model=\"llama3\")\n",
    "prompt= ChatPromptTemplate.from_template(template)\n",
    "chain = prompt | model\n",
    "\n",
    "result = chain.invoke({\"context\": \"\", \"question\": \"how are you?\"})\n",
    "\n",
    "print(result)"
   ]
  },
  {
   "cell_type": "code",
   "execution_count": 4,
   "metadata": {},
   "outputs": [
    {
     "name": "stdout",
     "output_type": "stream",
     "text": [
      "Welcome to the AI Chatbot, Type 'exit' to queit:\n",
      "Bot:  Nice to meet you!\n"
     ]
    }
   ],
   "source": [
    "model= OllamaLLM(model=\"llama3\")\n",
    "prompt= ChatPromptTemplate.from_template(template)\n",
    "chain = prompt | model\n",
    "\n",
    "def handle_conversion():\n",
    "    context=\"\"\n",
    "    print(\"Welcome to the AI Chatbot, Type 'exit' to queit:\")\n",
    "    while True:\n",
    "        user_input= input(\"You: \")\n",
    "        if user_input.lower()==\"exit\":\n",
    "            break   \n",
    "        result = chain.invoke({\"context\": context, \"question\": user_input})\n",
    "        print(\"Bot: \", result)\n",
    "        context+= f\"\\nUser: {user_input}\\nAI: {result}\"\n",
    "\n",
    "\n",
    "if __name__==\"__main__\":\n",
    "    handle_conversion()"
   ]
  }
 ],
 "metadata": {
  "kernelspec": {
   "display_name": "chatbot",
   "language": "python",
   "name": "python3"
  },
  "language_info": {
   "codemirror_mode": {
    "name": "ipython",
    "version": 3
   },
   "file_extension": ".py",
   "mimetype": "text/x-python",
   "name": "python",
   "nbconvert_exporter": "python",
   "pygments_lexer": "ipython3",
   "version": "3.12.3"
  }
 },
 "nbformat": 4,
 "nbformat_minor": 2
}
